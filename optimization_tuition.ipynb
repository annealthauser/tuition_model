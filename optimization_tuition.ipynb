{
 "cells": [
  {
   "cell_type": "markdown",
   "metadata": {},
   "source": [
    "# Tuition Modeling\n",
    "## Step 3: Finding Tuition vs Enrollment\n",
    "\n",
    "The purpose of this script is to take data and models from Step 2 and run the genetic optimization algorithm for bucket values. First, bucket values will be created. Then the optimization will be run using DEAP.\n",
    "\n",
    "### Goals\n",
    "\n",
    "* Take gradient-boosting model for predictions and create buckets\n",
    "* Run genetic algorithm for optimization\n",
    "* Export optimized buckets for use later\n",
    "\n",
    "\n",
    "### Process\n",
    "\n",
    "* A. Load data and modules\n",
    "* B. Define optimiziation constraints\n",
    "* C. Set up for predictions\n",
    "* D. Look at how predictions fared\n",
    "* E. Create Curve\n",
    "\n",
    "\n",
    "### Resources\n",
    "\n",
    "* https://github.com/rhiever/Data-Analysis-and-Machine-Learning-Projects/blob/master/pareto-optimized-road-trip/optimized-state-capitols-trip.ipynb"
   ]
  },
  {
   "cell_type": "markdown",
   "metadata": {},
   "source": [
    "## Part A - Load data and modules\n",
    "\n",
    "### Part A1 - Load modules"
   ]
  },
  {
   "cell_type": "code",
   "execution_count": 1,
   "metadata": {},
   "outputs": [
    {
     "name": "stdout",
     "output_type": "stream",
     "text": [
      "['', 'C:\\\\Python27\\\\Scripts', 'C:\\\\Python27\\\\Lib\\\\site-packages', 'C:\\\\Program Files\\\\Python36\\\\Scripts', 'C:\\\\Users\\\\Lavi\\\\repos\\\\coursector\\\\pugo\\\\optimization', 'C:\\\\WINDOWS\\\\SYSTEM32\\\\python27.zip', 'c:\\\\python27\\\\DLLs', 'c:\\\\python27\\\\lib', 'c:\\\\python27\\\\lib\\\\plat-win', 'c:\\\\python27\\\\lib\\\\lib-tk', 'c:\\\\python27', 'C:\\\\Python27\\\\Lib\\\\site-packages\\\\IPython\\\\extensions', 'C:\\\\Users\\\\Lavi\\\\.ipython']\n"
     ]
    }
   ],
   "source": [
    "import sys\n",
    "#sys.path.append(\"C:\\\\Python27\\\\Scripts\")\n",
    "print sys.path"
   ]
  },
  {
   "cell_type": "code",
   "execution_count": 2,
   "metadata": {},
   "outputs": [
    {
     "name": "stderr",
     "output_type": "stream",
     "text": [
      "C:\\Python27\\Lib\\site-packages\\deap\\tools\\_hypervolume\\pyhv.py:33: ImportWarning: Falling back to the python version of hypervolume module. Expect this to be very slow.\n",
      "  \"module. Expect this to be very slow.\", ImportWarning)\n"
     ]
    }
   ],
   "source": [
    "# Load in software libraries\n",
    "import os\n",
    "import sys\n",
    "import pandas as pd\n",
    "import numpy as np\n",
    "import pickle\n",
    "import random\n",
    "import copy\n",
    "from tqdm import tqdm\n",
    "import scipy as sp\n",
    "import scipy.optimize\n",
    "\n",
    "# Get data-munging libraries\n",
    "from sklearn import preprocessing\n",
    "from sklearn import decomposition\n",
    "\n",
    "# Get ML libraries\n",
    "from sklearn import metrics\n",
    "from sklearn.metrics import accuracy_score, classification_report, confusion_matrix\n",
    "from sklearn.linear_model import LogisticRegression\n",
    "from sklearn.model_selection import train_test_split, StratifiedShuffleSplit\n",
    "from sklearn.ensemble import GradientBoostingClassifier, VotingClassifier\n",
    "\n",
    "# Get Viz libraries\n",
    "import matplotlib.pyplot as plt\n",
    "import matplotlib.mlab as mlab\n",
    "import seaborn as sns\n",
    "%matplotlib inline\n",
    "\n",
    "# Genetic algorithm\n",
    "from deap import algorithms\n",
    "from deap import base\n",
    "from deap import creator\n",
    "from deap import tools"
   ]
  },
  {
   "cell_type": "markdown",
   "metadata": {},
   "source": [
    "### Part A2 - Load  objects and data\n",
    "These are objects that are created in Step 2: Enrollment Predictions"
   ]
  },
  {
   "cell_type": "code",
   "execution_count": 3,
   "metadata": {},
   "outputs": [],
   "source": [
    "df = pd.read_csv('../predictions/forOpt/data_all.csv') #data used for the predictive model"
   ]
  },
  {
   "cell_type": "code",
   "execution_count": 4,
   "metadata": {},
   "outputs": [],
   "source": [
    "model_location = '../predictions/forOpt/tuition/tuitionXgb_model.pkl' #the gradient boosting model\n",
    "with open(model_location, 'rb') as model_input:\n",
    "    predict_model_gb = pickle.load(model_input)\n",
    "    \n",
    "model_location = '../predictions/forOpt/tuition/tuitionRf_model.pkl' #the gradient boosting model\n",
    "with open(model_location, 'rb') as model_input:\n",
    "    predict_model_rf = pickle.load(model_input)\n",
    "    \n",
    "model_location = '../predictions/forOpt/tuition/tuitionNn_model.pkl' #the gradient boosting model\n",
    "with open(model_location, 'rb') as model_input:\n",
    "    predict_model_nn = pickle.load(model_input)"
   ]
  },
  {
   "cell_type": "code",
   "execution_count": 5,
   "metadata": {},
   "outputs": [],
   "source": [
    "scaler_location = '../predictions/forOpt/tuition/scaler.pkl' #the scaler used. Will be scaling/re-scaling in this code\n",
    "\n",
    "with open(scaler_location, 'rb') as scaler_input:\n",
    "    scaler = pickle.load(scaler_input)"
   ]
  },
  {
   "cell_type": "code",
   "execution_count": 6,
   "metadata": {},
   "outputs": [],
   "source": [
    "# features not used in predictions but are needed in this script\n",
    "df[['PuGoOffer', 'GrantSchol', 'Tuition', 'ApplYr', 'IsAdmitted']] = pd.read_csv('../predictions/forOpt/pugoTuitionAndGrants.csv')"
   ]
  },
  {
   "cell_type": "code",
   "execution_count": 7,
   "metadata": {},
   "outputs": [],
   "source": [
    "#names of columns for the predictive model\n",
    "col_location = '../predictions/forOpt/tuition/columns.pkl'\n",
    "\n",
    "with open(col_location, 'rb') as col_input:\n",
    "    cols = pickle.load(col_input)"
   ]
  },
  {
   "cell_type": "code",
   "execution_count": 8,
   "metadata": {},
   "outputs": [],
   "source": [
    "cutoff_threshold = 0.5 #default cutoff\n",
    "\n",
    "useCutoff = True #use the one determined from model\n",
    "\n",
    "use_only_admitted = True #should be kept true unless wanting to analyze students not given an offer\n",
    "\n",
    "if useCutoff: #should be used, in most cases\n",
    "    cutoff_location = '../predictions/forOpt/tuition/bestXgb_cutoff.pkl' #cutoff when setting thresholds for predictions\n",
    "    with open(cutoff_location, 'rb') as cutoff_input:\n",
    "        cutoff_threshold_gb = pickle.load(cutoff_input)\n",
    "    cutoff_location = '../predictions/forOpt/tuition/bestRf_cutoff.pkl' #cutoff when setting thresholds for predictions\n",
    "    with open(cutoff_location, 'rb') as cutoff_input:\n",
    "        cutoff_threshold_rf = pickle.load(cutoff_input)\n",
    "    cutoff_location = '../predictions/forOpt/tuition/bestNn_cutoff.pkl' #cutoff when setting thresholds for predictions\n",
    "    with open(cutoff_location, 'rb') as cutoff_input:\n",
    "        cutoff_threshold_nn = pickle.load(cutoff_input)"
   ]
  },
  {
   "cell_type": "code",
   "execution_count": 9,
   "metadata": {},
   "outputs": [
    {
     "data": {
      "text/plain": [
       "Index([u'HolisticAcademicScore', u'HolisticPQAScore',\n",
       "       u'HolisticAdmissionScore', u'parent1_ed_level', u'parent2_ed_level',\n",
       "       u'HighestParentalEducation', u'TestScore', u'AcademicScore',\n",
       "       u'AcademicRank', u'HS_AI',\n",
       "       ...\n",
       "       u'LowerHighSchoolGPA', u'UpperHighSchoolGPA', u'isAdmittedProbs',\n",
       "       u'isAdmittedPredict', u'Enrolled', u'PuGoOffer', u'GrantSchol',\n",
       "       u'Tuition', u'ApplYr', u'IsAdmitted'],\n",
       "      dtype='object', length=113)"
      ]
     },
     "execution_count": 9,
     "metadata": {},
     "output_type": "execute_result"
    }
   ],
   "source": [
    "df.columns #some sanity checks below"
   ]
  },
  {
   "cell_type": "code",
   "execution_count": 10,
   "metadata": {
    "scrolled": false
   },
   "outputs": [
    {
     "data": {
      "text/plain": [
       "Index([u'HolisticAcademicScore', u'HolisticPQAScore',\n",
       "       u'HolisticAdmissionScore', u'parent1_ed_level', u'parent2_ed_level',\n",
       "       u'HighestParentalEducation', u'TestScore', u'AcademicScore',\n",
       "       u'AcademicRank', u'HS_AI',\n",
       "       ...\n",
       "       u'ed_3m', u'ed_4m', u'ed_5m', u'AcademicScore_imputed',\n",
       "       u'tuition_after_grants', u'AcademicRankPctYr', u'LowerHighSchoolGPA',\n",
       "       u'UpperHighSchoolGPA', u'isAdmittedProbs', u'isAdmittedPredict'],\n",
       "      dtype='object', length=107)"
      ]
     },
     "execution_count": 10,
     "metadata": {},
     "output_type": "execute_result"
    }
   ],
   "source": [
    "cols"
   ]
  },
  {
   "cell_type": "markdown",
   "metadata": {},
   "source": [
    "## Part B - Define optimization constraints"
   ]
  },
  {
   "cell_type": "code",
   "execution_count": 11,
   "metadata": {},
   "outputs": [],
   "source": [
    "years_to_use = [2017] #year(s) to include in optimization"
   ]
  },
  {
   "cell_type": "markdown",
   "metadata": {},
   "source": [
    "## Part C - Set up for predictions"
   ]
  },
  {
   "cell_type": "code",
   "execution_count": 12,
   "metadata": {},
   "outputs": [],
   "source": [
    "df = df[df.ApplYr.isin(years_to_use)] #use only years of interest"
   ]
  },
  {
   "cell_type": "code",
   "execution_count": 13,
   "metadata": {},
   "outputs": [],
   "source": [
    "#optimize only on admitted students\n",
    "if use_only_admitted:\n",
    "    df = df[df.isAdmittedPredict == 1] "
   ]
  },
  {
   "cell_type": "code",
   "execution_count": 14,
   "metadata": {},
   "outputs": [],
   "source": [
    "#x and y variables in predictions\n",
    "y = df.Enrolled\n",
    "x = df.drop('Enrolled', axis = 1)"
   ]
  },
  {
   "cell_type": "code",
   "execution_count": 15,
   "metadata": {},
   "outputs": [
    {
     "data": {
      "text/plain": [
       "count     9475.000000\n",
       "mean     31583.763483\n",
       "std       2553.404865\n",
       "min       4912.000000\n",
       "25%      31038.000000\n",
       "50%      32288.000000\n",
       "75%      32288.000000\n",
       "max      35538.000000\n",
       "Name: tuition_after_grants, dtype: float64"
      ]
     },
     "execution_count": 15,
     "metadata": {},
     "output_type": "execute_result"
    }
   ],
   "source": [
    "#some sanity checks follow\n",
    "x.tuition_after_grants.describe()"
   ]
  },
  {
   "cell_type": "code",
   "execution_count": 16,
   "metadata": {},
   "outputs": [
    {
     "data": {
      "text/plain": [
       "<matplotlib.axes._subplots.AxesSubplot at 0x318480b8>"
      ]
     },
     "execution_count": 16,
     "metadata": {},
     "output_type": "execute_result"
    },
    {
     "data": {
      "image/png": "[encoded data removed]",
      "text/plain": [
       "<Figure size 432x288 with 1 Axes>"
      ]
     },
     "metadata": {},
     "output_type": "display_data"
    }
   ],
   "source": [
    "x.tuition_after_grants.hist()"
   ]
  },
  {
   "cell_type": "code",
   "execution_count": 17,
   "metadata": {},
   "outputs": [
    {
     "data": {
      "text/plain": [
       "3250    4745\n",
       "4500    2854\n",
       "0       1409\n",
       "5500     467\n",
       "Name: PuGoOffer, dtype: int64"
      ]
     },
     "execution_count": 17,
     "metadata": {},
     "output_type": "execute_result"
    }
   ],
   "source": [
    "x.PuGoOffer.value_counts()"
   ]
  },
  {
   "cell_type": "code",
   "execution_count": 18,
   "metadata": {},
   "outputs": [],
   "source": [
    "scalerValues = pd.Series(scaler.scale_)\n",
    "scalerValues.index = cols\n",
    "centerValues = pd.Series(scaler.center_)\n",
    "centerValues.index = cols"
   ]
  },
  {
   "cell_type": "code",
   "execution_count": 19,
   "metadata": {},
   "outputs": [],
   "source": [
    "rescale = True #this is important - rescale the data to fit what is expected for the prediction models\n",
    "\n",
    "if rescale:\n",
    "    x_scaled = pd.DataFrame(scaler.transform(x[cols]), index = x.index, columns = cols)"
   ]
  },
  {
   "cell_type": "markdown",
   "metadata": {
    "collapsed": true
   },
   "source": [
    "## Part D - Look at how predictions fared"
   ]
  },
  {
   "cell_type": "markdown",
   "metadata": {},
   "source": [
    "### See how predictions fared"
   ]
  },
  {
   "cell_type": "code",
   "execution_count": 20,
   "metadata": {},
   "outputs": [],
   "source": [
    "enrollProb = predict_model_nn.predict_proba(x_scaled)[:,1] #probabilities for enrollment\n",
    "enrollPrediction = enrollProb >= cutoff_threshold_nn #use cutoff threshold"
   ]
  },
  {
   "cell_type": "code",
   "execution_count": 21,
   "metadata": {},
   "outputs": [
    {
     "name": "stdout",
     "output_type": "stream",
     "text": [
      "PuGo Offered: 30832750\n",
      "PuGo Use: 3221000\n",
      "PuGo use %: 10.446684126456447\n"
     ]
    }
   ],
   "source": [
    "#these values are actual amounts from the historical data\n",
    "actual_pugo_offered = df.PuGoOffer.sum()\n",
    "print 'PuGo Offered: ' + str(actual_pugo_offered)\n",
    "\n",
    "actual_pugo_use = df[df.Enrolled == 1].PuGoOffer.sum()\n",
    "print 'PuGo Use: ' + str(actual_pugo_use)\n",
    "\n",
    "print 'PuGo use %: ' + str(float(actual_pugo_use) / actual_pugo_offered * 100)"
   ]
  },
  {
   "cell_type": "code",
   "execution_count": 22,
   "metadata": {},
   "outputs": [
    {
     "name": "stdout",
     "output_type": "stream",
     "text": [
      "Predicted PuGo Offered: 30832750\n",
      "Predicted PuGo Use: 2480500\n",
      "Predicted PuGo use %: 8.045017067890473\n"
     ]
    }
   ],
   "source": [
    "#these values are the predicted amounts for the given PuGo offers. Note how much there is an underestimation.\n",
    "predicted_pugo_offered = df.PuGoOffer.sum()\n",
    "print 'Predicted PuGo Offered: ' + str(predicted_pugo_offered)\n",
    "\n",
    "predicted_pugo_use = df[enrollPrediction == 1].PuGoOffer.sum()\n",
    "print 'Predicted PuGo Use: ' + str(predicted_pugo_use)\n",
    "\n",
    "print 'Predicted PuGo use %: ' + str(float(predicted_pugo_use) / predicted_pugo_offered * 100)"
   ]
  },
  {
   "cell_type": "code",
   "execution_count": 23,
   "metadata": {},
   "outputs": [
    {
     "name": "stdout",
     "output_type": "stream",
     "text": [
      "Enrolled students: 1140\n",
      "Admitted students: 9475\n",
      "Actual yield: 12.031662269129287\n"
     ]
    }
   ],
   "source": [
    "#actual student enrollment counts\n",
    "actual_student_count = df.Enrolled.sum()\n",
    "actual_total_student_count = len(df)\n",
    "\n",
    "print 'Enrolled students: ' + str(actual_student_count)\n",
    "print 'Admitted students: ' + str(actual_total_student_count)\n",
    "print 'Actual yield: ' + str(actual_student_count * 100.0 / actual_total_student_count)"
   ]
  },
  {
   "cell_type": "code",
   "execution_count": 24,
   "metadata": {},
   "outputs": [
    {
     "name": "stdout",
     "output_type": "stream",
     "text": [
      "Predicted students: 1083\n",
      "Admitted students: 9475\n",
      "Predicted yield: 11.430079155672823\n"
     ]
    }
   ],
   "source": [
    "#predicted student enrollment counts\n",
    "predicted_student_count = enrollPrediction.sum()\n",
    "total_student_count = len(enrollPrediction)\n",
    "\n",
    "print 'Predicted students: ' + str(predicted_student_count)\n",
    "print 'Admitted students: ' + str(total_student_count)\n",
    "print 'Predicted yield: ' + str(predicted_student_count * 100.0 / total_student_count)"
   ]
  },
  {
   "cell_type": "code",
   "execution_count": 25,
   "metadata": {},
   "outputs": [
    {
     "name": "stdout",
     "output_type": "stream",
     "text": [
      "Predicted Net Revenue: 38487654.0\n"
     ]
    }
   ],
   "source": [
    "predicted_net_revenue = (df.Tuition.mean() * enrollPrediction).sum()\n",
    "print 'Predicted Net Revenue: ' + str(predicted_net_revenue) #predicted revenue, where revenue is just sum of tuition spent"
   ]
  },
  {
   "cell_type": "code",
   "execution_count": 26,
   "metadata": {},
   "outputs": [
    {
     "name": "stdout",
     "output_type": "stream",
     "text": [
      "Predicted Average SAT: 1300.679593721145\n"
     ]
    }
   ],
   "source": [
    "predicted_avg_sat = df.TestScore[enrollPrediction == 1].mean()\n",
    "print 'Predicted Average SAT: ' + str(predicted_avg_sat)"
   ]
  },
  {
   "cell_type": "code",
   "execution_count": 27,
   "metadata": {},
   "outputs": [],
   "source": [
    "use_scaler = predicted_pugo_use * 1.0 / actual_pugo_use #if there should be some scaling with respect to how much PuGo is used\n",
    "use_scaler = 1.0"
   ]
  },
  {
   "cell_type": "markdown",
   "metadata": {},
   "source": [
    "## Part E - Evaluation functions"
   ]
  },
  {
   "cell_type": "markdown",
   "metadata": {},
   "source": [
    "### Part E1 - Make secondary functions"
   ]
  },
  {
   "cell_type": "code",
   "execution_count": 28,
   "metadata": {},
   "outputs": [],
   "source": [
    "def reconstruct(valuesIn, tag):\n",
    "    #get unscaled values from scaled values\n",
    "    return (valuesIn * scalerValues[tag]) + centerValues[tag]"
   ]
  },
  {
   "cell_type": "code",
   "execution_count": 29,
   "metadata": {},
   "outputs": [],
   "source": [
    "def deconstruct(valuesIn, tag):\n",
    "    #get scaled values from unscaled values\n",
    "    return (valuesIn - centerValues[tag]) / scalerValues[tag]"
   ]
  },
  {
   "cell_type": "code",
   "execution_count": 30,
   "metadata": {},
   "outputs": [],
   "source": [
    "#this function will be used to evaluate scholarship amounts\n",
    "def reCalculateTuition(dfIn):\n",
    "    output = dfIn.copy() #copy input so as to not overwrite\n",
    "    output['tuition_after_grants'] = output['Tuition'] - (output['PuGoOffer'] + output['GrantSchol']) #recalculate tuition\n",
    "    output.loc[output.tuition_after_grants < 0, 'tuition_after_grants'] = 0\n",
    "    output['tuition_after_grants'] = deconstruct(output['tuition_after_grants'], 'tuition_after_grants') #rescale!!\n",
    "    return output "
   ]
  },
  {
   "cell_type": "code",
   "execution_count": 31,
   "metadata": {},
   "outputs": [],
   "source": [
    "opt_x = x_scaled.copy() #opt_x will be what we use in optimizations\n",
    "opt_x[['PuGoOffer', 'GrantSchol', 'Tuition']] = df[['PuGoOffer', 'GrantSchol', 'Tuition']] #add these data variables"
   ]
  },
  {
   "cell_type": "code",
   "execution_count": 32,
   "metadata": {},
   "outputs": [],
   "source": [
    "opt_x['PredictionScore'] = predict_model_gb.predict_proba(opt_x[cols])[:, 1] #generate initial prediction scores\n",
    "opt_x['PredictionScoreTemp'] = opt_x['PredictionScore']\n",
    "opt_x['EnrollPredictionTemp'] = predict_model_gb.predict(opt_x[cols])"
   ]
  },
  {
   "cell_type": "code",
   "execution_count": 33,
   "metadata": {},
   "outputs": [
    {
     "data": {
      "text/plain": [
       "1036"
      ]
     },
     "execution_count": 33,
     "metadata": {},
     "output_type": "execute_result"
    }
   ],
   "source": [
    "opt_x.loc[opt_x.PredictionScoreTemp < cutoff_threshold_gb, 'EnrollPredictionTemp'] = 0 #look at initial predictions\n",
    "opt_x.loc[opt_x.PredictionScoreTemp >= cutoff_threshold_gb, 'EnrollPredictionTemp'] = 1\n",
    "len(opt_x[opt_x['EnrollPredictionTemp'] == 1])"
   ]
  },
  {
   "cell_type": "markdown",
   "metadata": {},
   "source": [
    "### Part E2 - Make evaluation function"
   ]
  },
  {
   "cell_type": "code",
   "execution_count": 34,
   "metadata": {},
   "outputs": [],
   "source": [
    "def parse_scholarships_base(tuition, model, dfIn = opt_x, cutoff = cutoff_threshold):\n",
    "    dfHold = dfIn.copy() #again, make a copy so original doesn't get altered\n",
    "    \n",
    "    dfHold['Tuition'] = tuition\n",
    "    \n",
    "    dfHold = reCalculateTuition(dfHold) #we then recalculate tuition (and rescale)\n",
    "    \n",
    "    dfHold['PredictionScoreTemp'] = model.predict_proba(dfHold[cols])[:, 1] #recalculate predictions\n",
    "    dfHold.loc[dfHold.PredictionScoreTemp >= cutoff, 'EnrollPredictionTemp'] = 1\n",
    "    dfHold.loc[dfHold.PredictionScoreTemp < cutoff, 'EnrollPredictionTemp'] = 0\n",
    "\n",
    "    students = len(dfHold[dfHold['EnrollPredictionTemp'] == 1]) #students who we predict will enroll\n",
    "\n",
    "    test_scores = reconstruct(dfHold.TestScore, 'TestScore') #this will make more sense if they are unscaled\n",
    "    avg_test_score = test_scores[dfHold['EnrollPredictionTemp'] == 1].mean() #mean test score\n",
    "\n",
    "    return students, avg_test_score"
   ]
  },
  {
   "cell_type": "code",
   "execution_count": 35,
   "metadata": {},
   "outputs": [],
   "source": [
    "#skeleton function to call - essentially just has defaults to use built-in. Can be changed depending on style\n",
    "def parse_scholarships(tuition, model, cutoff = cutoff_threshold, dfIn = opt_x):\n",
    "    return parse_scholarships_base(tuition, model, dfIn, cutoff)"
   ]
  },
  {
   "cell_type": "markdown",
   "metadata": {},
   "source": [
    "### Part E3 - Simulate tuition scenarios"
   ]
  },
  {
   "cell_type": "code",
   "execution_count": 36,
   "metadata": {},
   "outputs": [
    {
     "name": "stdout",
     "output_type": "stream",
     "text": [
      "(0.226, 0.191, 0.199)\n"
     ]
    }
   ],
   "source": [
    "print (cutoff_threshold_gb, cutoff_threshold_rf, cutoff_threshold_nn)"
   ]
  },
  {
   "cell_type": "code",
   "execution_count": 37,
   "metadata": {},
   "outputs": [
    {
     "name": "stderr",
     "output_type": "stream",
     "text": [
      "100%|████████████████████████████████████████████████████████████████████████████████| 300/300 [08:18<00:00,  1.66s/it]\n"
     ]
    }
   ],
   "source": [
    "storeGb = []\n",
    "storeRf = []\n",
    "storeNn = []\n",
    "tuition = np.arange(20000, 50000, 100)\n",
    "for each in tqdm(tuition):\n",
    "    storeGb.append(parse_scholarships(each, predict_model_gb, cutoff = cutoff_threshold_gb)[0])\n",
    "    storeRf.append(parse_scholarships(each, predict_model_rf, cutoff = cutoff_threshold_rf)[0])\n",
    "    storeNn.append(parse_scholarships(each, predict_model_nn, cutoff = cutoff_threshold_nn)[0])"
   ]
  },
  {
   "cell_type": "code",
   "execution_count": 38,
   "metadata": {},
   "outputs": [],
   "source": [
    "tuition = np.array(tuition)\n",
    "storeGb = np.array(storeGb)\n",
    "storeRf = np.array(storeRf)\n",
    "storeNn = np.array(storeNn)\n",
    "summed = (storeGb + storeRf + storeNn)/ 3\n",
    "#summed = (storeRf + storeNn)/ 2"
   ]
  },
  {
   "cell_type": "markdown",
   "metadata": {},
   "source": [
    "### Part E4 - Plot results"
   ]
  },
  {
   "cell_type": "code",
   "execution_count": 39,
   "metadata": {},
   "outputs": [],
   "source": [
    "def model_func(t, A, K, C):\n",
    "    return A * np.exp(K * t) + C"
   ]
  },
  {
   "cell_type": "code",
   "execution_count": 40,
   "metadata": {},
   "outputs": [],
   "source": [
    "coefs = np.polyfit(tuition, np.log(summed), 1)"
   ]
  },
  {
   "cell_type": "code",
   "execution_count": 41,
   "metadata": {},
   "outputs": [],
   "source": [
    "opt_params, parm_cov = sp.optimize.curve_fit(model_func, tuition,\n",
    "                                             summed, p0 = (1000, coefs[0], coefs[1]), maxfev = 10000)\n",
    "A, K, C = opt_params"
   ]
  },
  {
   "cell_type": "code",
   "execution_count": 42,
   "metadata": {},
   "outputs": [
    {
     "data": {
      "text/plain": [
       "array([ 2.75452313e+04, -1.27488011e-04,  5.95213030e+02])"
      ]
     },
     "execution_count": 42,
     "metadata": {},
     "output_type": "execute_result"
    }
   ],
   "source": [
    "opt_params"
   ]
  },
  {
   "cell_type": "code",
   "execution_count": 43,
   "metadata": {},
   "outputs": [
    {
     "data": {
      "text/plain": [
       "31583.763482849605"
      ]
     },
     "execution_count": 43,
     "metadata": {},
     "output_type": "execute_result"
    }
   ],
   "source": [
    "df.tuition_after_grants.mean()"
   ]
  },
  {
   "cell_type": "code",
   "execution_count": 44,
   "metadata": {},
   "outputs": [
    {
     "data": {
      "text/plain": [
       "1086.5025123813987"
      ]
     },
     "execution_count": 44,
     "metadata": {},
     "output_type": "execute_result"
    }
   ],
   "source": [
    "predicted = A * np.exp(K * df.tuition_after_grants.mean()) + C\n",
    "predicted"
   ]
  },
  {
   "cell_type": "code",
   "execution_count": 45,
   "metadata": {},
   "outputs": [
    {
     "data": {
      "image/png": "[encoded data removed]",
      "text/plain": [
       "<Figure size 504x216 with 2 Axes>"
      ]
     },
     "metadata": {},
     "output_type": "display_data"
    }
   ],
   "source": [
    "plt.figure(figsize = (7, 3))\n",
    "ax = plt.subplot(121)\n",
    "\n",
    "curve = A * np.exp(K * tuition) + C\n",
    "#plt.plot(tuition, A * np.exp(K * tuition) + C )\n",
    "plt.plot(tuition, summed, '#7fc97f', label = 'Predictions', linewidth = 2)\n",
    "plt.xlabel('Tuition after grants ($)')\n",
    "plt.ylabel('Predicted enrollment')\n",
    "plt.ylim([0, 3000])\n",
    "plt.xlim([18000, 52000])\n",
    "\n",
    "ax.spines['right'].set_visible(False)\n",
    "ax.spines['top'].set_visible(False)\n",
    "\n",
    "# Only show ticks on the left and bottom spines\n",
    "ax.yaxis.set_ticks_position('left')\n",
    "ax.xaxis.set_ticks_position('bottom')\n",
    "\n",
    "\n",
    "ax = plt.subplot(122)\n",
    "\n",
    "curve = A * np.exp(K * tuition) + C\n",
    "plt.plot(tuition, summed, '#7fc97f', label = 'Predictions', linewidth = 2)\n",
    "plt.plot(tuition, A * np.exp(K * tuition) + C, '#beaed4', label = 'Fitted Curve', linewidth = 2)\n",
    "plt.xlabel('Tuition after grants ($)')\n",
    "#plt.ylabel('Predicted enrollment')\n",
    "plt.ylim([0, 3000])\n",
    "plt.xlim([18000, 52000])\n",
    "\n",
    "ax.spines['right'].set_visible(False)\n",
    "ax.spines['top'].set_visible(False)\n",
    "\n",
    "plt.legend(frameon = False)\n",
    "\n",
    "# Only show ticks on the left and bottom spines\n",
    "ax.yaxis.set_ticks_position('left')\n",
    "ax.xaxis.set_ticks_position('bottom')\n",
    "plt.savefig('../optimization/forOpt/tuition/predictionCurveFitted.png', bbox_inches = 'tight')"
   ]
  },
  {
   "cell_type": "code",
   "execution_count": 46,
   "metadata": {},
   "outputs": [
    {
     "data": {
      "image/png": "[encoded data removed]",
      "text/plain": [
       "<Figure size 432x288 with 1 Axes>"
      ]
     },
     "metadata": {},
     "output_type": "display_data"
    }
   ],
   "source": [
    "plt.figure(figsize = (6, 4))\n",
    "ax = plt.subplot(111)\n",
    "\n",
    "curve = A * np.exp(K * tuition) + C\n",
    "plt.plot(tuition, summed, '#7fc97f', label = 'Predictions', linewidth = 2)\n",
    "plt.plot(tuition, A * np.exp(K * tuition) + C, '#beaed4', label = 'Fitted Curve', linewidth = 2)\n",
    "plt.plot([df.tuition_after_grants.mean(), df.tuition_after_grants.mean()], [0, predicted], 'k:')\n",
    "plt.plot([0, df.tuition_after_grants.mean()], [predicted, predicted], 'k:')\n",
    "\n",
    "equation = ['y = ', \n",
    "            str(np.round(opt_params[0], 2)),\n",
    "            ' * e^(',\n",
    "            str(np.round(opt_params[1], 5)),\n",
    "            '*x) + ',\n",
    "            str(np.round(opt_params[2], 2))]\n",
    "plt.annotate(''.join(equation), xy = (30000, 1500))\n",
    "plt.annotate('Actual enrollments: ' + str(actual_student_count) \n",
    "             + '\\nPredicted enrollments: ' + str(int(predicted)), xy = (32000, 300))\n",
    "\n",
    "plt.xlabel('Tuition after grants ($)')\n",
    "plt.ylabel('Predicted enrollment')\n",
    "plt.ylim([0, 3000])\n",
    "plt.xlim([18000, 52000])\n",
    "\n",
    "ax.spines['right'].set_visible(False)\n",
    "ax.spines['top'].set_visible(False)\n",
    "\n",
    "plt.legend(frameon = False)\n",
    "\n",
    "# Only show ticks on the left and bottom spines\n",
    "ax.yaxis.set_ticks_position('left')\n",
    "ax.xaxis.set_ticks_position('bottom')\n",
    "plt.savefig('../optimization/forOpt/tuition/predictionCurveAnnoted.png')"
   ]
  },
  {
   "cell_type": "markdown",
   "metadata": {},
   "source": [
    "### TO DO: run monte carlos sims"
   ]
  },
  {
   "cell_type": "code",
   "execution_count": 104,
   "metadata": {},
   "outputs": [],
   "source": [
    "plotX = np.linspace(-5, 0, 10000)"
   ]
  },
  {
   "cell_type": "code",
   "execution_count": 37,
   "metadata": {
    "scrolled": true
   },
   "outputs": [
    {
     "name": "stderr",
     "output_type": "stream",
     "text": [
      "C:\\Python27\\Lib\\site-packages\\ipykernel_launcher.py:5: MatplotlibDeprecationWarning: scipy.stats.norm.pdf\n",
      "  \"\"\"\n"
     ]
    },
    {
     "data": {
      "text/plain": [
       "[<matplotlib.lines.Line2D at 0x3164ae48>]"
      ]
     },
     "execution_count": 37,
     "metadata": {},
     "output_type": "execute_result"
    },
    {
     "data": {
      "image/png": "[encoded data removed]",
      "text/plain": [
       "<Figure size 432x288 with 1 Axes>"
      ]
     },
     "metadata": {},
     "output_type": "display_data"
    }
   ],
   "source": [
    "distGb = np.log(predict_model_gb.predict_proba(x_scaled[cols])[:, 1])\n",
    "meanGb = np.mean(distGb)\n",
    "stdGb = np.std(distGb)\n",
    "plt.hist(np.log(predict_model_gb.predict_proba(x_scaled[cols])[:, 1]), bins = 100, density = True)\n",
    "pdfGb = mlab.normpdf(plotX, meanGb, stdGb)\n",
    "plt.plot(plotX, pdfGb)"
   ]
  },
  {
   "cell_type": "code",
   "execution_count": 38,
   "metadata": {},
   "outputs": [
    {
     "name": "stderr",
     "output_type": "stream",
     "text": [
      "C:\\Python27\\Lib\\site-packages\\ipykernel_launcher.py:5: MatplotlibDeprecationWarning: scipy.stats.norm.pdf\n",
      "  \"\"\"\n"
     ]
    },
    {
     "data": {
      "text/plain": [
       "[<matplotlib.lines.Line2D at 0x321e9ba8>]"
      ]
     },
     "execution_count": 38,
     "metadata": {},
     "output_type": "execute_result"
    },
    {
     "data": {
      "image/png": "[encoded data removed]",
      "text/plain": [
       "<Figure size 432x288 with 1 Axes>"
      ]
     },
     "metadata": {},
     "output_type": "display_data"
    }
   ],
   "source": [
    "distRf = np.log(predict_model_rf.predict_proba(x_scaled[cols])[:, 1])\n",
    "meanRf = np.mean(distRf)\n",
    "stdRf = np.std(distRf)\n",
    "plt.hist(np.log(predict_model_rf.predict_proba(x_scaled[cols])[:, 1]), bins = 100, density = True)\n",
    "pdfRf = mlab.normpdf(plotX, meanRf, stdRf)\n",
    "plt.plot(plotX, pdfRf)"
   ]
  },
  {
   "cell_type": "code",
   "execution_count": 39,
   "metadata": {},
   "outputs": [
    {
     "name": "stderr",
     "output_type": "stream",
     "text": [
      "C:\\Python27\\Lib\\site-packages\\ipykernel_launcher.py:5: MatplotlibDeprecationWarning: scipy.stats.norm.pdf\n",
      "  \"\"\"\n"
     ]
    },
    {
     "data": {
      "text/plain": [
       "[<matplotlib.lines.Line2D at 0x30a3a2b0>]"
      ]
     },
     "execution_count": 39,
     "metadata": {},
     "output_type": "execute_result"
    },
    {
     "data": {
      "image/png": "[encoded data removed]",
      "text/plain": [
       "<Figure size 432x288 with 1 Axes>"
      ]
     },
     "metadata": {},
     "output_type": "display_data"
    }
   ],
   "source": [
    "distNn = np.log(predict_model_nn.predict_proba(x_scaled[cols])[:, 1])\n",
    "meanNn = np.mean(distNn)\n",
    "stdNn = np.std(distNn)\n",
    "plt.hist(np.log(predict_model_nn.predict_proba(x_scaled[cols])[:, 1]), bins = 100, density = True)\n",
    "pdfNn = mlab.normpdf(plotX, meanNn, stdNn)\n",
    "plt.plot(plotX, pdfNn)"
   ]
  }
 ],
 "metadata": {
  "kernelspec": {
   "display_name": "Python 2",
   "language": "python",
   "name": "python2"
  },
  "language_info": {
   "codemirror_mode": {
    "name": "ipython",
    "version": 2
   },
   "file_extension": ".py",
   "mimetype": "text/x-python",
   "name": "python",
   "nbconvert_exporter": "python",
   "pygments_lexer": "ipython2",
   "version": "2.7.15"
  }
 },
 "nbformat": 4,
 "nbformat_minor": 1
}
